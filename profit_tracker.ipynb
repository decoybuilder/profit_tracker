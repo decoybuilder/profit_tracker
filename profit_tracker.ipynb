{
 "metadata": {
  "language_info": {
   "codemirror_mode": {
    "name": "ipython",
    "version": 3
   },
   "file_extension": ".py",
   "mimetype": "text/x-python",
   "name": "python",
   "nbconvert_exporter": "python",
   "pygments_lexer": "ipython3",
   "version": "3.8.3-final"
  },
  "orig_nbformat": 2,
  "kernelspec": {
   "name": "python3",
   "display_name": "Python 3"
  }
 },
 "nbformat": 4,
 "nbformat_minor": 2,
 "cells": [
  {
   "cell_type": "code",
   "execution_count": 1,
   "metadata": {},
   "outputs": [],
   "source": [
    "import pandas as pd"
   ]
  },
  {
   "cell_type": "code",
   "execution_count": 2,
   "metadata": {},
   "outputs": [],
   "source": [
    "movement = pd.read_excel('C:\\\\Users\\\\decoy\\\\Documents\\\\Finance\\\\transactions.xlsx', sheet_name='Movement')\n",
    "dividend = pd.read_excel('C:\\\\Users\\\\decoy\\\\Documents\\\\Finance\\\\transactions.xlsx', sheet_name='Dividend')"
   ]
  },
  {
   "cell_type": "code",
   "execution_count": 3,
   "metadata": {},
   "outputs": [],
   "source": [
    "closed_profits = 0"
   ]
  },
  {
   "cell_type": "code",
   "execution_count": 4,
   "metadata": {},
   "outputs": [],
   "source": [
    "class security:\n",
    "\n",
    "    security_value = 0\n",
    "\n",
    "    def __init__(self, date, code, quantity, action, price, fees):\n",
    "        self.date = date\n",
    "        self.code = code\n",
    "        self.quantity = quantity\n",
    "        self.action = action\n",
    "        self.price = price\n",
    "        self.fees = fees\n",
    "        self.value = 0\n",
    "\n",
    "        if self.action == 'Sell':\n",
    "            self.value += self.quantity * self.price - self.fees\n",
    "\n",
    "        elif self.action == 'Buy':\n",
    "            self.value -= self.quantity * self.price + self.fees\n",
    "\n",
    "        security.security_value -= self.value\n",
    "\n",
    "    def transaction(self, quantity, action, price, fees):\n",
    "        if self.action == 'Sell':\n",
    "            self.value += self.quantity * self.price - self.fees\n",
    "\n",
    "        elif self.action == 'Buy':\n",
    "            self.value -= self.quantity * self.price + self.fees\n",
    "\n",
    "        security.security_value -= self.value\n",
    "\n",
    "    @classmethod\n",
    "    def from_row(cls, row):\n",
    "        date, code, quantity, action, price, fees = row\n",
    "        return cls(date, code, quantity, action, price, fees)"
   ]
  },
  {
   "cell_type": "code",
   "execution_count": 5,
   "metadata": {},
   "outputs": [
    {
     "output_type": "stream",
     "name": "stdout",
     "text": [
      "Date        2020-09-08 00:00:00\nCode                    CRO.ASX\nQuantity                  49626\nAction                      Buy\nPrice                     0.041\nFees                      14.95\nName: 13, dtype: object\nDate        2020-09-04 00:00:00\nCode                    CGF.ASX\nQuantity                   1006\nAction                      Buy\nPrice                      3.96\nFees                      14.95\nName: 12, dtype: object\nDate        2020-08-26 00:00:00\nCode                    BRN.ASX\nQuantity                  13283\nAction                      Buy\nPrice                       0.3\nFees                      14.95\nName: 10, dtype: object\nDate        2020-08-10 00:00:00\nCode                    ANZ.ASX\nQuantity                    866\nAction                     Sell\nPrice                      18.1\nFees                      19.95\nName: 9, dtype: object\nDate        2020-08-03 00:00:00\nCode                    ANZ.ASX\nQuantity                    866\nAction                      Buy\nPrice                     17.28\nFees                      19.95\nName: 8, dtype: object\nDate        2020-07-08 00:00:00\nCode                    NAB.ASX\nQuantity                    880\nAction                      Buy\nPrice                        18\nFees                      19.95\nName: 6, dtype: object\nDate        2020-06-11 00:00:00\nCode                    STW.ASX\nQuantity                    265\nAction                      Buy\nPrice                     56.08\nFees                          0\nName: 5, dtype: object\nDate        2020-06-03 00:00:00\nCode                    NAB.ASX\nQuantity                    176\nAction                      Buy\nPrice                     14.15\nFees                          0\nName: 3, dtype: object\nDate        2020-05-19 00:00:00\nCode                    NAB.ASX\nQuantity                    626\nAction                     Sell\nPrice                      15.6\nFees                          0\nName: 2, dtype: object\nDate        2020-04-08 00:00:00\nCode                    NAB.ASX\nQuantity                    514\nAction                      Buy\nPrice                      15.5\nFees                          0\nName: 1, dtype: object\n"
     ]
    }
   ],
   "source": [
    "sec_list = []\n",
    "for index in range(len(movement) - 1, 0, -1):\n",
    "    name = movement.loc[index]['Code'].replace('.', '_').lower()\n",
    "    if name not in sec_list:\n",
    "        sec_list += [name]\n",
    "        globals()[name] = security.from_row(movement.loc[index])\n",
    "    else:\n",
    "        date, code, quantity, action, price, fees = movement.loc[index]\n",
    "        globals()[name].transaction(quantity, action, price, fees)\n",
    "\n",
    "    print(name, globals()[name].value)\n"
   ]
  },
  {
   "cell_type": "code",
   "execution_count": 6,
   "metadata": {},
   "outputs": [
    {
     "output_type": "stream",
     "name": "stdout",
     "text": [
      "-87736.1\n"
     ]
    }
   ],
   "source": [
    "print(security.security_value)"
   ]
  },
  {
   "cell_type": "code",
   "execution_count": 7,
   "metadata": {},
   "outputs": [
    {
     "output_type": "stream",
     "name": "stdout",
     "text": [
      "8541.22\n"
     ]
    }
   ],
   "source": [
    "print(cgf_asx.value)"
   ]
  }
 ]
}