{
 "metadata": {
  "language_info": {
   "codemirror_mode": {
    "name": "ipython",
    "version": 3
   },
   "file_extension": ".py",
   "mimetype": "text/x-python",
   "name": "python",
   "nbconvert_exporter": "python",
   "pygments_lexer": "ipython3",
   "version": "3.8.3-final"
  },
  "orig_nbformat": 2,
  "kernelspec": {
   "name": "python3",
   "display_name": "Python 3"
  }
 },
 "nbformat": 4,
 "nbformat_minor": 2,
 "cells": [
  {
   "cell_type": "code",
   "execution_count": 1,
   "metadata": {},
   "outputs": [],
   "source": [
    "import pandas as pd"
   ]
  },
  {
   "cell_type": "code",
   "execution_count": 2,
   "metadata": {},
   "outputs": [],
   "source": [
    "movement = pd.read_excel('C:\\\\Users\\\\decoy\\\\Documents\\\\Finance\\\\transactions.xlsx', sheet_name='Movement')\n",
    "dividend = pd.read_excel('C:\\\\Users\\\\decoy\\\\Documents\\\\Finance\\\\transactions.xlsx', sheet_name='Dividend')\n",
    "cash = pd.read_excel('C:\\\\Users\\\\decoy\\\\Documents\\\\Finance\\\\transactions.xlsx', sheet_name='Cash')"
   ]
  },
  {
   "cell_type": "code",
   "execution_count": 3,
   "metadata": {},
   "outputs": [],
   "source": [
    "sells = movement[movement['Action'] == 'Sell']\n",
    "sells.reset_index(drop=True, inplace=True)\n",
    "buys = movement[movement['Action'] == 'Buy']\n",
    "buys.reset_index(drop=True, inplace=True)"
   ]
  },
  {
   "source": [
    "closed_profits_dict = {}\n",
    "while len(sells) != 0:\n",
    "    sells.reset_index(drop=True, inplace=True)\n",
    "    buys.reset_index(drop=True, inplace=True)\n",
    "    sell_index = len(sells) - 1\n",
    "    s_date, s_code, s_quantity, s_action, s_price, s_fees = sells.loc[sell_index]\n",
    "\n",
    "    for buy_index in range(len(buys) - 1, -1, -1):\n",
    "        if (s_code == buys.loc[buy_index]['Code']) and (sells.loc[sell_index]['Date'] >= buys.loc[buy_index]['Date']):\n",
    "            b_date, b_code, b_quantity, b_action, b_price, b_fees = buys.loc[buy_index]\n",
    "\n",
    "            name = b_code.replace('.', '_').lower()\n",
    "            if name not in closed_profits_dict:\n",
    "                closed_profits_dict[name] = 0\n",
    "            \n",
    "            if s_quantity < b_quantity:\n",
    "                closed_profits_dict[name] += s_price * s_quantity - b_price * s_quantity - s_fees\n",
    "                buys.at[buy_index, 'Quantity'] -= s_quantity\n",
    "                sells.drop(sells.index[-1], inplace=True)\n",
    "                break\n",
    "            \n",
    "            elif s_quantity == b_quantity:\n",
    "                closed_profits_dict[name] += s_price * s_quantity - b_price *   b_quantity - s_fees - b_fees\n",
    "                buys.drop([buy_index], inplace=True)\n",
    "                sells.drop(sells.index[-1], inplace=True)\n",
    "                break\n",
    "\n",
    "            else:\n",
    "                closed_profits_dict[name] += s_price * b_quantity - b_price *   b_quantity - s_fees - b_fees\n",
    "                sells.at[sell_index, 'Quantity'] -= b_quantity\n",
    "                buys.drop([buy_index], inplace=True)\n",
    "                break"
   ],
   "cell_type": "code",
   "metadata": {},
   "execution_count": 4,
   "outputs": []
  },
  {
   "cell_type": "code",
   "execution_count": 5,
   "metadata": {},
   "outputs": [],
   "source": [
    "for div_index in range(0, len(dividend)):\n",
    "    d_date, d_code, d_amount  = dividend.loc[div_index]\n",
    "    name = d_code.replace('.', '_').lower()\n",
    "\n",
    "    if name not in closed_profits_dict:\n",
    "        closed_profits_dict[name] = 0\n",
    "        \n",
    "    closed_profits_dict[name] += d_amount"
   ]
  },
  {
   "cell_type": "code",
   "execution_count": 6,
   "metadata": {},
   "outputs": [],
   "source": [
    "cash_tot = sum(cash['Credit']) - sum(cash['Debit'])"
   ]
  },
  {
   "cell_type": "code",
   "execution_count": 7,
   "metadata": {},
   "outputs": [
    {
     "output_type": "stream",
     "name": "stdout",
     "text": [
      "{'cro_asx': 416.73400000000004, 'cgf_asx': 271.89999999999975, 'nab_asx': 164.10000000000164, 'brn_asx': 767.0800000000004, 'anz_asx': 670.2199999999989, 'stw_asx': 142.93, 'gpt_asx': 225.25}\n2658.2140000000004\n"
     ]
    }
   ],
   "source": [
    "closed_profits = sum(closed_profits_dict.values())\n",
    "print(closed_profits_dict)\n",
    "print(closed_profits)"
   ]
  },
  {
   "cell_type": "code",
   "execution_count": null,
   "metadata": {},
   "outputs": [],
   "source": []
  }
 ]
}