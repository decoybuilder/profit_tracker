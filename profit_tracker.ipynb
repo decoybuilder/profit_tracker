{
 "metadata": {
  "language_info": {
   "codemirror_mode": {
    "name": "ipython",
    "version": 3
   },
   "file_extension": ".py",
   "mimetype": "text/x-python",
   "name": "python",
   "nbconvert_exporter": "python",
   "pygments_lexer": "ipython3",
   "version": "3.8.3-final"
  },
  "orig_nbformat": 2,
  "kernelspec": {
   "name": "python3",
   "display_name": "Python 3"
  }
 },
 "nbformat": 4,
 "nbformat_minor": 2,
 "cells": [
  {
   "cell_type": "code",
   "execution_count": 1,
   "metadata": {},
   "outputs": [],
   "source": [
    "import pandas as pd"
   ]
  },
  {
   "cell_type": "code",
   "execution_count": 2,
   "metadata": {},
   "outputs": [],
   "source": [
    "movement = pd.read_excel('C:\\\\Users\\\\decoy\\\\Documents\\\\Finance\\\\transactions.xlsx', sheet_name='Movement')\n",
    "dividend = pd.read_excel('C:\\\\Users\\\\decoy\\\\Documents\\\\Finance\\\\transactions.xlsx', sheet_name='Dividend')"
   ]
  },
  {
   "cell_type": "code",
   "execution_count": 3,
   "metadata": {},
   "outputs": [],
   "source": [
    "sells = movement[movement['Action'] == 'Sell']\n",
    "sells.reset_index(drop=True, inplace=True)\n",
    "buys = movement[movement['Action'] == 'Buy']\n",
    "buys.reset_index(drop=True, inplace=True)"
   ]
  },
  {
   "cell_type": "code",
   "execution_count": null,
   "metadata": {},
   "outputs": [],
   "source": [
    "closed_profits_dict = {}\n",
    "for sell_index in range(len(sells) - 1, -1, -1):\n",
    "    s_date, s_code, s_quantity, s_action, s_price, s_fees = sells.loc[sell_index]\n",
    "\n",
    "    for buy_index in range(len(sells) - 1, -1, -1):\n",
    "        if s_code == buys.loc[buy_index]['Code']:\n",
    "            b_date, b_code, b_quantity, b_action, b_price, b_fees = buys.loc[buy_index]\n",
    "\n",
    "            name = b_code.replace('.', '_').lower()\n",
    "            closed_profits_dict[name] = 0\n",
    "            \n",
    "            if s_quantity < b_quantity:\n",
    "                closed_profits_dict[name] += s_price * s_quantity - b_price *   b_quantity - s_fees\n",
    "                buys.loc[buy_index]['Quantity'] -= s_quantity\n",
    "            \n",
    "            elif s_quantity == b_quantity:\n",
    "                closed_profits_dict[name] += s_price * s_quantity - b_price *   b_quantity - s_fees - b_fees"
   ]
  }
 ]
}